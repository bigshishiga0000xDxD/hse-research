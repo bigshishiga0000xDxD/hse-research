{
 "cells": [
  {
   "attachments": {},
   "cell_type": "markdown",
   "id": "39214115",
   "metadata": {},
   "source": [
    "### Kernel: SageMath 9.8"
   ]
  },
  {
   "cell_type": "code",
   "execution_count": 1,
   "id": "f4f65c72",
   "metadata": {},
   "outputs": [],
   "source": [
    "q = parent(SimilarityClassTypes(1)[0].class_card()).gen()\n",
    "\n",
    "\n",
    "def J(n, k):\n",
    "    \"\"\"\n",
    "    Количество n * n матриц ранга k над полем F_q в виде многочлена от q\n",
    "    \"\"\"\n",
    "\n",
    "    result = 1\n",
    "    for i in range(k):\n",
    "        result *= q ** n - q ** i\n",
    "    result **= 2\n",
    "\n",
    "    for i in range(k):\n",
    "        result /= q ** k - q ** i\n",
    "    \n",
    "    return result\n",
    "\n",
    "# дальнейшие формулы также возвращают результат в виде многочлена от q\n",
    "\n",
    "\n",
    "def d1n(n):\n",
    "    type = SimilarityClassType([(1, [1]), (1, [1] * (n - 1))])\n",
    "    result = type.class_card() * J(n, n) / J(n, 1)\n",
    "    return result \n",
    "\n",
    "\n",
    "def d2n(n):\n",
    "    type1 = SimilarityClassType([(1, [2] + [1] * (n - 3)), (1, [1])])\n",
    "    type2 = SimilarityClassType([(1, [1] * (n - 2)), (1, [1]), (1, [1])])\n",
    "    type3 = SimilarityClassType([(1, [1] * (n - 2)), (1, [1, 1])])\n",
    "    type4 = SimilarityClassType([(1, [1] * (n - 2)), (1, [2])])\n",
    "\n",
    "    result = \\\n",
    "        type1.class_card() + \\\n",
    "        type2.class_card() * (q - 2) + \\\n",
    "        type3.class_card() + \\\n",
    "        type4.class_card()\n",
    "\n",
    "    result = result * J(n, n) / J(n, 2)\n",
    "    return result \n",
    "\n",
    "\n",
    "def dkn(k, n):\n",
    "    result = 0\n",
    "    for tau in SimilarityClassTypes(n):\n",
    "        s = [(pr.degree(), pr.partition()) for pr in tau]\n",
    "\n",
    "        parts = []\n",
    "        for deg, part in s:\n",
    "            if deg == 1:\n",
    "                parts.append(part)\n",
    "\n",
    "        # q, q-1, q-2, q-3  -->  1, 1, q-2, q-3 \n",
    "        classes = tau.number_of_classes() / q / (q - 1)\n",
    "\n",
    "        for i in range(len(parts)):       # позиция собственного значения 0\n",
    "            if n - len(parts[i]) == k:\n",
    "                result += classes * tau.class_card() * (len(parts) - 1)\n",
    "                \n",
    "        # случай, когда собственного значения 0 нет\n",
    "        if n == k: \n",
    "            # q, q-1, q-2, q-3  -->  1, q-2, q-3, q-4\n",
    "            classes = tau.number_of_classes() / q / (q - 1) * (q - len(parts))\n",
    "            result += classes * tau.class_card() * len(parts)\n",
    "    \n",
    "    return result * J(n, n) / J(n, k)"
   ]
  },
  {
   "cell_type": "code",
   "execution_count": 4,
   "id": "f2f82156",
   "metadata": {},
   "outputs": [
    {
     "name": "stdout",
     "output_type": "stream",
     "text": [
      "k = 1, n = 2, d_kn(n) = q^3 - q^2\n",
      "k = 2, n = 2, d_kn(n) = q^3 - 2*q\n",
      "k = 1, n = 3, d_kn(n) = q^8 - q^7 - q^6 + q^5\n",
      "k = 2, n = 3, d_kn(n) = q^8 - 3*q^6 + q^5 + q^4\n",
      "k = 3, n = 3, d_kn(n) = q^8 - 2*q^6 - q^5 + 3*q^3\n",
      "k = 1, n = 4, d_kn(n) = q^15 - q^14 - q^13 + q^11 + q^10 - q^9\n",
      "k = 2, n = 4, d_kn(n) = q^15 - 3*q^13 + 2*q^11 + q^10 - q^8\n",
      "k = 3, n = 4, d_kn(n) = q^15 - 2*q^13 - 2*q^12 + q^11 + 4*q^10 - q^8 - q^7\n",
      "k = 4, n = 4, d_kn(n) = q^15 - 2*q^13 - q^12 - q^11 + 3*q^10 + 2*q^9 + q^8 - 4*q^6\n",
      "k = 1, n = 5, d_kn(n) = q^24 - q^23 - q^22 + 2*q^19 - q^16 - q^15 + q^14\n",
      "k = 2, n = 5, d_kn(n) = q^24 - 3*q^22 + q^20 + 2*q^19 + q^18 - q^17 - 2*q^15 + q^13\n",
      "k = 3, n = 5, d_kn(n) = q^24 - 2*q^22 - 2*q^21 + 5*q^19 + q^18 - q^17 - q^16 - 2*q^15 + q^12\n",
      "k = 4, n = 5, d_kn(n) = q^24 - 2*q^22 - q^21 - 2*q^20 + 4*q^19 + 3*q^18 + q^17 - 6*q^15 + q^12 + q^11\n",
      "k = 5, n = 5, d_kn(n) = q^24 - 2*q^22 - q^21 - q^20 + 2*q^19 + 2*q^18 + 3*q^17 + q^16 - 3*q^15 - 3*q^14 - 2*q^13 - q^12 + 5*q^10\n"
     ]
    }
   ],
   "source": [
    "for n in range(2, 6):\n",
    "    for k in range(1, n + 1):\n",
    "        print(f'k = {k}, n = {n}, d_kn(n) = {dkn(k, n)}')"
   ]
  }
 ],
 "metadata": {
  "kernelspec": {
   "display_name": "SageMath 9.8",
   "language": "sage",
   "name": "SageMath-9.8"
  },
  "language_info": {
   "codemirror_mode": {
    "name": "ipython",
    "version": 3
   },
   "file_extension": ".py",
   "mimetype": "text/x-python",
   "name": "python",
   "nbconvert_exporter": "python",
   "pygments_lexer": "ipython3",
   "version": "3.11.1"
  }
 },
 "nbformat": 4,
 "nbformat_minor": 5
}

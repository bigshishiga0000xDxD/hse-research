{
 "cells": [
  {
   "cell_type": "code",
   "execution_count": 1,
   "metadata": {
    "vscode": {
     "languageId": "python"
    }
   },
   "outputs": [],
   "source": [
    "def system_dimension(matrices, q=3):\n",
    "    F = GF(q)\n",
    "    R.<x1,x2,x3,x4,x5,x6,x7,x8,x9> = F[]\n",
    "\n",
    "    A = Matrix([\n",
    "        [x1, x2, x3],\n",
    "        [x4, x5, x6],\n",
    "        [x7, x8, x9]\n",
    "    ])\n",
    "    # создаем матрицу с переменными из поля\n",
    "\n",
    "    b = []\n",
    "    for matrix in matrices:\n",
    "        b.append((A + matrix).det())\n",
    "        # добавляем уравнение в систему\n",
    "    \n",
    "    I = b * R\n",
    "    # считаем идеал системы\n",
    "\n",
    "    return I.dimension()"
   ]
  },
  {
   "cell_type": "code",
   "execution_count": 2,
   "metadata": {
    "vscode": {
     "languageId": "python"
    }
   },
   "outputs": [],
   "source": [
    "def test_q(q):\n",
    "    for mask in range(q ** 6):\n",
    "        arr = []\n",
    "        for i in range(6):\n",
    "            arr.append(mask % q)\n",
    "            mask //= q\n",
    "\n",
    "        k1, k2, k3, k4, k5, k6 = arr\n",
    "        M2 = Matrix([\n",
    "            [0, 0, k1],\n",
    "            [0, k2, k4],\n",
    "            [k3, k5, k6]\n",
    "        ])\n",
    "\n",
    "        if M2.rank() != 2:\n",
    "            continue\n",
    "\n",
    "        dim = system_dimension((\n",
    "            Matrix([\n",
    "                [0, 0, 0],\n",
    "                [0, 0, 0],\n",
    "                [0, 0, 0]\n",
    "            ]),\n",
    "            Matrix([\n",
    "                [1, 0, 0],\n",
    "                [0, 1, 0],\n",
    "                [0, 0, 0]\n",
    "            ]),\n",
    "            M2 \n",
    "        ), q=q)\n",
    "\n",
    "        if dim > 6:\n",
    "            return False\n",
    "    return True"
   ]
  },
  {
   "cell_type": "code",
   "execution_count": 3,
   "metadata": {
    "vscode": {
     "languageId": "python"
    }
   },
   "outputs": [
    {
     "name": "stdout",
     "output_type": "stream",
     "text": [
      "2\n",
      "True\n",
      "3\n",
      "True\n",
      "4\n",
      "False\n",
      "5\n",
      "True\n",
      "7\n",
      "True\n",
      "8\n",
      "False\n",
      "9\n",
      "False\n"
     ]
    }
   ],
   "source": [
    "for q in (2, 3, 4, 5, 7, 8, 9):\n",
    "    print(q)\n",
    "    print(test_q(q))"
   ]
  }
 ],
 "metadata": {
  "kernelspec": {
   "display_name": "SageMath 10.1",
   "language": "sage",
   "name": "SageMath-10.1"
  },
  "language_info": {
   "codemirror_mode": {
    "name": "ipython",
    "version": 3
   },
   "file_extension": ".py",
   "mimetype": "text/x-python",
   "name": "sage",
   "nbconvert_exporter": "python",
   "pygments_lexer": "ipython3",
   "version": "3.11.1"
  }
 },
 "nbformat": 4,
 "nbformat_minor": 2
}

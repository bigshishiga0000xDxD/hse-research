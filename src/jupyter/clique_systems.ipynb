{
 "cells": [
  {
   "cell_type": "markdown",
   "metadata": {},
   "source": [
    "Следующая функция принимает набор матриц и строит по нему базис Гребнера идеала системы уравнений, задающей их общих соседей"
   ]
  },
  {
   "cell_type": "code",
   "execution_count": 2,
   "metadata": {
    "vscode": {
     "languageId": "python"
    }
   },
   "outputs": [],
   "source": [
    "def build_groebner(matrices, q=3):\n",
    "    F = GF(q)\n",
    "    R.<x1,x2,x3,x4,x5,x6,x7,x8,x9> = F[]\n",
    "\n",
    "    A = Matrix([\n",
    "        [x1, x2, x3],\n",
    "        [x4, x5, x6],\n",
    "        [x7, x8, x9]\n",
    "    ])\n",
    "    # создаем матрицу с переменными из поля\n",
    "\n",
    "    b = []\n",
    "    for matrix in matrices:\n",
    "        b.append((A + matrix).det())\n",
    "        # добавляем уравнение в систему\n",
    "    \n",
    "    I = b * R\n",
    "    # считаем идеал системы\n",
    "\n",
    "    print(f'dimension: {I.dimension()}')\n",
    "    # I.dimension() -- это аналог количества свободных переменных в\n",
    "    # нелинейных системах и порядок количества решений\n",
    "    # (размерность Крулля)\n",
    "\n",
    "    G = I.groebner_basis()\n",
    "\n",
    "    return G"
   ]
  },
  {
   "cell_type": "markdown",
   "metadata": {},
   "source": [
    "Далее, я рассматриваю разные наборы матриц и смотрю на получившиеся базисы Гребнера"
   ]
  },
  {
   "cell_type": "code",
   "execution_count": 2,
   "metadata": {
    "vscode": {
     "languageId": "python"
    }
   },
   "outputs": [
    {
     "name": "stdout",
     "output_type": "stream",
     "text": [
      "dimension: 7\n"
     ]
    },
    {
     "data": {
      "text/plain": [
       "[x3*x5*x7 - x2*x6*x7 - x3*x4*x8 + x2*x4*x9, x6*x8 - x5*x9]"
      ]
     },
     "execution_count": 2,
     "metadata": {},
     "output_type": "execute_result"
    }
   ],
   "source": [
    "# rk 0, rk 1\n",
    "\n",
    "G = build_groebner((\n",
    "    Matrix([\n",
    "        [0, 0, 0],\n",
    "        [0, 0, 0],\n",
    "        [0, 0, 0]\n",
    "    ]),\n",
    "    Matrix([\n",
    "        [1, 0, 0],\n",
    "        [0, 0, 0],\n",
    "        [0, 0, 0]\n",
    "    ]),\n",
    "))\n",
    "\n",
    "G"
   ]
  },
  {
   "cell_type": "code",
   "execution_count": 3,
   "metadata": {
    "vscode": {
     "languageId": "python"
    }
   },
   "outputs": [
    {
     "name": "stdout",
     "output_type": "stream",
     "text": [
      "dimension: 6\n"
     ]
    },
    {
     "data": {
      "text/plain": [
       "[x3^2*x4*x5*x9 - x2*x3*x4*x6*x9 - x1*x3*x5*x6*x9 + x1*x2*x6^2*x9 - x3*x5*x6*x9 + x2*x6^2*x9, x2*x5*x7^2*x9 - x2*x4*x7*x8*x9 - x1*x5*x7*x8*x9 + x1*x4*x8^2*x9 - x5*x7*x8*x9 + x4*x8^2*x9, x3^2*x4*x8 - x2*x3*x4*x9 - x1*x3*x5*x9 + x1*x2*x6*x9 - x3*x5*x9 + x2*x6*x9, x3*x4*x8^2 + x2*x5*x7*x9 - x2*x4*x8*x9 - x1*x5*x8*x9 - x5*x8*x9, x2*x6*x7 + x3*x4*x8 - x2*x4*x9 - x1*x5*x9 - x5*x9, x3*x7 - x1*x9 - x9, x6*x8 - x5*x9]"
      ]
     },
     "execution_count": 3,
     "metadata": {},
     "output_type": "execute_result"
    }
   ],
   "source": [
    "# rk 0, rk 1, rk 2\n",
    "\n",
    "G = build_groebner((\n",
    "    Matrix([\n",
    "        [0, 0, 0],\n",
    "        [0, 0, 0],\n",
    "        [0, 0, 0]\n",
    "    ]),\n",
    "    Matrix([\n",
    "        [1, 0, 0],\n",
    "        [0, 0, 0],\n",
    "        [0, 0, 0]\n",
    "    ]),\n",
    "    Matrix([\n",
    "        [1, 0, 0],\n",
    "        [0, 1, 0],\n",
    "        [0, 0, 0]\n",
    "    ])\n",
    "))\n",
    "\n",
    "G"
   ]
  },
  {
   "cell_type": "code",
   "execution_count": 4,
   "metadata": {
    "vscode": {
     "languageId": "python"
    }
   },
   "outputs": [
    {
     "name": "stdout",
     "output_type": "stream",
     "text": [
      "dimension: 7\n"
     ]
    },
    {
     "data": {
      "text/plain": [
       "[x3*x5*x7 - x2*x6*x7 - x3*x4*x8 + x2*x4*x9, x6*x8 - x5*x9]"
      ]
     },
     "execution_count": 4,
     "metadata": {},
     "output_type": "execute_result"
    }
   ],
   "source": [
    "# rk 0, rk 1, rk 1\n",
    "\n",
    "G = build_groebner((\n",
    "    Matrix([\n",
    "        [0, 0, 0],\n",
    "        [0, 0, 0],\n",
    "        [0, 0, 0]\n",
    "    ]),\n",
    "    Matrix([\n",
    "        [1, 0, 0],\n",
    "        [0, 0, 0],\n",
    "        [0, 0, 0]\n",
    "    ]),\n",
    "    Matrix([\n",
    "        [2, 0, 0],\n",
    "        [0, 0, 0],\n",
    "        [0, 0, 0]\n",
    "    ])\n",
    "))\n",
    "\n",
    "G"
   ]
  },
  {
   "cell_type": "code",
   "execution_count": 5,
   "metadata": {
    "vscode": {
     "languageId": "python"
    }
   },
   "outputs": [
    {
     "name": "stdout",
     "output_type": "stream",
     "text": [
      "dimension: 6\n"
     ]
    },
    {
     "data": {
      "text/plain": [
       "[x3^2*x4*x5*x9 - x2*x3*x4*x6*x9 - x1*x3*x5*x6*x9 + x1*x2*x6^2*x9, x2*x5*x7^2*x9 - x2*x4*x7*x8*x9 - x1*x5*x7*x8*x9 + x1*x4*x8^2*x9, x3^2*x4*x8 - x2*x3*x4*x9 - x1*x3*x5*x9 + x1*x2*x6*x9, x3*x4*x8^2 + x2*x5*x7*x9 - x2*x4*x8*x9 - x1*x5*x8*x9, x2*x6*x7 + x3*x4*x8 - x2*x4*x9 - x1*x5*x9, x3*x7 - x1*x9, x6*x8 - x5*x9]"
      ]
     },
     "execution_count": 5,
     "metadata": {},
     "output_type": "execute_result"
    }
   ],
   "source": [
    "# rk 0, rk 1, rk 1\n",
    "\n",
    "G = build_groebner((\n",
    "    Matrix([\n",
    "        [0, 0, 0],\n",
    "        [0, 0, 0],\n",
    "        [0, 0, 0]\n",
    "    ]),\n",
    "    Matrix([\n",
    "        [1, 0, 0],\n",
    "        [0, 0, 0],\n",
    "        [0, 0, 0]\n",
    "    ]),\n",
    "    Matrix([\n",
    "        [0, 0, 0],\n",
    "        [0, 1, 0],\n",
    "        [0, 0, 0]\n",
    "    ]),\n",
    "))\n",
    "\n",
    "G"
   ]
  },
  {
   "cell_type": "code",
   "execution_count": 6,
   "metadata": {
    "vscode": {
     "languageId": "python"
    }
   },
   "outputs": [
    {
     "name": "stdout",
     "output_type": "stream",
     "text": [
      "dimension: 7\n"
     ]
    },
    {
     "data": {
      "text/plain": [
       "[x3*x5*x7 - x3*x4*x8, x5*x7*x9 - x4*x8*x9, x6*x7 - x4*x9, x6*x8 - x5*x9]"
      ]
     },
     "execution_count": 6,
     "metadata": {},
     "output_type": "execute_result"
    }
   ],
   "source": [
    "# rk 0, rk 1, rk 1\n",
    "\n",
    "G = build_groebner((\n",
    "    Matrix([\n",
    "        [0, 0, 0],\n",
    "        [0, 0, 0],\n",
    "        [0, 0, 0]\n",
    "    ]),\n",
    "    Matrix([\n",
    "        [1, 0, 0],\n",
    "        [0, 0, 0],\n",
    "        [0, 0, 0]\n",
    "    ]),\n",
    "    Matrix([\n",
    "        [0, 1, 0],\n",
    "        [0, 0, 0],\n",
    "        [0, 0, 0]\n",
    "    ]),\n",
    "))\n",
    "\n",
    "G"
   ]
  },
  {
   "cell_type": "code",
   "execution_count": 7,
   "metadata": {
    "vscode": {
     "languageId": "python"
    }
   },
   "outputs": [
    {
     "name": "stdout",
     "output_type": "stream",
     "text": [
      "dimension: 6\n"
     ]
    },
    {
     "data": {
      "text/plain": [
       "[x3*x5*x7 - x2*x6*x7 - x3*x4*x8 + x3*x4*x9 + x1*x5*x9 - x3*x5*x9 - x1*x6*x9 + x2*x6*x9 + x2*x7*x9 - x3*x7*x9 - x5*x7*x9 + x6*x7*x9 - x1*x8*x9 + x3*x8*x9 + x4*x8*x9 + x1*x9^2 - x2*x9^2 - x4*x9^2, x2*x4 - x3*x4 - x1*x5 + x3*x5 + x1*x6 - x2*x6 - x2*x7 + x3*x7 + x5*x7 - x6*x7 + x1*x8 - x3*x8 - x4*x8 - x1*x9 + x2*x9 + x4*x9, x6*x8 - x5*x9]"
      ]
     },
     "execution_count": 7,
     "metadata": {},
     "output_type": "execute_result"
    }
   ],
   "source": [
    "# rk 0, rk 1, rk 1\n",
    "\n",
    "G = build_groebner((\n",
    "    Matrix([\n",
    "        [0, 0, 0],\n",
    "        [0, 0, 0],\n",
    "        [0, 0, 0]\n",
    "    ]),\n",
    "    Matrix([\n",
    "        [1, 1, 1],\n",
    "        [1, 1, 1],\n",
    "        [1, 1, 1]\n",
    "    ]),\n",
    "    Matrix([\n",
    "        [1, 0, 0],\n",
    "        [0, 0, 0],\n",
    "        [0, 0, 0]\n",
    "    ]),\n",
    "))\n",
    "\n",
    "G"
   ]
  },
  {
   "cell_type": "code",
   "execution_count": 8,
   "metadata": {
    "vscode": {
     "languageId": "python"
    }
   },
   "outputs": [
    {
     "name": "stdout",
     "output_type": "stream",
     "text": [
      "dimension: 6\n"
     ]
    },
    {
     "data": {
      "text/plain": [
       "[x3^2*x4*x8, x3*x4*x8^2, x2*x6*x7 + x3*x4*x8, x3*x7, x6*x8, x9]"
      ]
     },
     "execution_count": 8,
     "metadata": {},
     "output_type": "execute_result"
    }
   ],
   "source": [
    "# rk 0, rk 1, rk 1, rk 2\n",
    "\n",
    "G = build_groebner((\n",
    "    Matrix([\n",
    "        [0, 0, 0],\n",
    "        [0, 0, 0],\n",
    "        [0, 0, 0]\n",
    "    ]),\n",
    "    Matrix([\n",
    "        [1, 0, 0],\n",
    "        [0, 0, 0],\n",
    "        [0, 0, 0]\n",
    "    ]),\n",
    "    Matrix([\n",
    "        [0, 0, 0],\n",
    "        [0, 1, 0],\n",
    "        [0, 0, 0]\n",
    "    ]),\n",
    "    Matrix([\n",
    "        [1, 0, 0],\n",
    "        [0, 1, 0],\n",
    "        [0, 0, 0]\n",
    "    ]),\n",
    "))\n",
    "\n",
    "G"
   ]
  },
  {
   "cell_type": "markdown",
   "metadata": {},
   "source": [
    "Для набора матриц сверху нетрудно доказать, что решений получается $ O(q^6) $.\n",
    "\n",
    "Мы можем зафиксировать $ x_3 = x_6 = x_9 = 0 $, тогда остальные переменные можно выбрать любыми. С другой стороны, мы не можем фиксировать меньшее число переменных -- это видно из последних трех уравнений, следовательно свободных переменных $ \\leqslant 6 $ при любом раскладе. Однако здесь, я полагаю проблема в том, что в максимальной клике необязательно есть эти 4 матрицы"
   ]
  },
  {
   "cell_type": "code",
   "execution_count": 9,
   "metadata": {
    "vscode": {
     "languageId": "python"
    }
   },
   "outputs": [
    {
     "name": "stdout",
     "output_type": "stream",
     "text": [
      "dimension: 5\n"
     ]
    },
    {
     "data": {
      "text/plain": [
       "[x1*x3^2*x5^2*x9 + x1*x2*x3*x5*x6*x9 + x1*x2^2*x6^2*x9, x1*x5^2*x7^2*x9 + x1*x4*x5*x7*x8*x9 + x1*x4^2*x8^2*x9, x1*x3^2*x5*x8 + x1*x2*x3*x5*x9 + x1*x2^2*x6*x9, x1*x3*x5*x8^2 + x2^2*x5*x7*x9 + x1*x2*x5*x8*x9, x3^2*x4*x5*x9 + x1*x3*x5*x6*x9 + x1*x2*x6^2*x9, x2*x5*x7^2*x9 + x1*x5*x7*x8*x9 + x1*x4*x8^2*x9, x1*x5*x6*x7 + x3*x4^2*x8 + x1*x4*x5*x9, x3^2*x4*x8 + x1*x3*x5*x9 + x1*x2*x6*x9, x3*x4*x8^2 + x2*x5*x7*x9 + x1*x5*x8*x9, x2*x6*x7 + x3*x4*x8 + x1*x5*x9, x2*x4 - x1*x5, x3*x7 - x1*x9, x6*x8 - x5*x9]"
      ]
     },
     "execution_count": 9,
     "metadata": {},
     "output_type": "execute_result"
    }
   ],
   "source": [
    "# rk 0, rk 1, rk 1, rk 1\n",
    "\n",
    "G = build_groebner((\n",
    "    Matrix([\n",
    "        [0, 0, 0],\n",
    "        [0, 0, 0],\n",
    "        [0, 0, 0]\n",
    "    ]),\n",
    "    Matrix([\n",
    "        [1, 0, 0],\n",
    "        [0, 0, 0],\n",
    "        [0, 0, 0]\n",
    "    ]),\n",
    "    Matrix([\n",
    "        [0, 0, 0],\n",
    "        [0, 1, 0],\n",
    "        [0, 0, 0]\n",
    "    ]),\n",
    "    Matrix([\n",
    "        [0, 0, 0],\n",
    "        [0, 0, 0],\n",
    "        [0, 0, 1]\n",
    "    ]),\n",
    "))\n",
    "\n",
    "G"
   ]
  },
  {
   "cell_type": "markdown",
   "metadata": {},
   "source": [
    "Здесь мы получили порядка $ q^5 $ решений. Вообще говоря, множество матриц ранга 1 образует клику само по себе, так как ранг их суммы не может превосходить 2. Размер такой клики имеет порядок $ q^5 $"
   ]
  },
  {
   "cell_type": "code",
   "execution_count": 10,
   "metadata": {
    "vscode": {
     "languageId": "python"
    }
   },
   "outputs": [
    {
     "name": "stdout",
     "output_type": "stream",
     "text": [
      "dimension: 6\n"
     ]
    },
    {
     "data": {
      "text/plain": [
       "[x1*x3^2*x5*x8 - x1*x2*x3*x6*x8 - x2*x3*x5*x6*x8 + x2^2*x6^2*x8 - x3^2*x6*x8^2 - x1*x2*x3*x5*x9 + x2*x3*x5^2*x9 + x1*x2^2*x6*x9 - x2^2*x5*x6*x9 + x3^2*x5*x8*x9 + x2*x3*x6*x8*x9 - x2*x3*x5*x9^2 + x1*x3^2*x8 + x3^2*x5*x8 - x2*x3*x6*x8 - x1*x2*x3*x9 + x3^2*x8*x9 - x2*x3*x9^2 + x3^2*x8 - x2*x3*x9, x1*x5*x6*x7 + x3*x4^2*x8 - x1*x4*x6*x8 - x4*x5*x6*x8 - x6^2*x7*x8 - x1*x4*x5*x9 + x4*x5^2*x9 + x5*x6*x7*x9 + x4*x6*x8*x9 - x4*x5*x9^2 + x1*x6*x7 + x5*x6*x7 - x4*x6*x8 - x1*x4*x9 + x6*x7*x9 - x4*x9^2 + x6*x7 - x4*x9, x3^2*x4*x8 - x1*x3*x6*x8 - x3*x5*x6*x8 + x2*x6^2*x8 - x1*x3*x5*x9 + x3*x5^2*x9 + x1*x2*x6*x9 - x2*x5*x6*x9 + x3*x6*x8*x9 - x3*x5*x9^2 - x3*x6*x8 - x1*x3*x9 - x3*x9^2 - x3*x9, x2*x6*x7 + x3*x4*x8 - x1*x6*x8 - x5*x6*x8 - x1*x5*x9 + x5^2*x9 + x6*x8*x9 - x5*x9^2 - x6*x8 - x1*x9 - x9^2 - x9, x2*x4 - x1*x5 + x6*x8 - x5*x9 - x1 - x5 - x9 - 1, x3*x7 - x6*x8 - x1*x9 + x5*x9]"
      ]
     },
     "execution_count": 10,
     "metadata": {},
     "output_type": "execute_result"
    }
   ],
   "source": [
    "# rk 1, rk 1, rk 3\n",
    "\n",
    "G = build_groebner((\n",
    "    Matrix([\n",
    "        [1, 0, 0],\n",
    "        [0, 0, 0],\n",
    "        [0, 0, 0]\n",
    "    ]),\n",
    "    Matrix([\n",
    "        [0, 0, 0],\n",
    "        [0, 1, 0],\n",
    "        [0, 0, 0]\n",
    "    ]),\n",
    "    Matrix([\n",
    "        [1, 0, 0],\n",
    "        [0, 1, 0],\n",
    "        [0, 0, 1]\n",
    "    ]),\n",
    "))\n",
    "\n",
    "G"
   ]
  },
  {
   "cell_type": "code",
   "execution_count": 3,
   "metadata": {
    "vscode": {
     "languageId": "python"
    }
   },
   "outputs": [
    {
     "name": "stdout",
     "output_type": "stream",
     "text": [
      "dimension: 6\n"
     ]
    },
    {
     "data": {
      "text/plain": [
       "[x1*x3^2*x5*x8 - x1*x2*x3*x6*x8 - x1*x2*x3*x5*x9 + x1*x2^2*x6*x9 + x1*x3^2*x8 + x3^2*x5*x8 - x2*x3*x6*x8 - x1*x2*x3*x9 - x2*x3*x5*x9 + x2^2*x6*x9 + x3^2*x8 - x2*x3*x9, x1*x5*x6*x7 + x3*x4^2*x8 - x1*x4*x6*x8 - x1*x4*x5*x9 + x1*x6*x7 + x5*x6*x7 - x4*x6*x8 - x1*x4*x9 - x4*x5*x9 + x6*x7 - x4*x9, x3^2*x4*x8 - x1*x3*x6*x8 - x1*x3*x5*x9 + x1*x2*x6*x9 - x3*x6*x8 - x1*x3*x9 - x3*x5*x9 + x2*x6*x9 - x3*x9, x2*x6*x7 + x3*x4*x8 - x1*x6*x8 - x1*x5*x9 - x6*x8 - x1*x9 - x5*x9 - x9, x2*x4 - x1*x5 - x1 - x5 - 1, x3*x7 - x1*x9 - x9]"
      ]
     },
     "execution_count": 3,
     "metadata": {},
     "output_type": "execute_result"
    }
   ],
   "source": [
    "# rk 1, rk 2, rk 3\n",
    "\n",
    "G = build_groebner((\n",
    "    Matrix([\n",
    "        [1, 0, 0],\n",
    "        [0, 0, 0],\n",
    "        [0, 0, 0]\n",
    "    ]),\n",
    "    Matrix([\n",
    "        [1, 0, 0],\n",
    "        [0, 1, 0],\n",
    "        [0, 0, 0]\n",
    "    ]),\n",
    "    Matrix([\n",
    "        [1, 0, 0],\n",
    "        [0, 1, 0],\n",
    "        [0, 0, 1]\n",
    "    ]),\n",
    "))\n",
    "\n",
    "G"
   ]
  },
  {
   "cell_type": "code",
   "execution_count": 11,
   "metadata": {
    "vscode": {
     "languageId": "python"
    }
   },
   "outputs": [],
   "source": [
    "import random\n",
    "\n",
    "def eliminate(G, **kwargs):\n",
    "    \"\"\"\n",
    "    функция осуществляет подстановку значений переменных в каждом многочлене\n",
    "    базиса Гребнера.\n",
    "    можно использовать как eliminate(G, x1=0, x3=1)\n",
    "    \"\"\"\n",
    "\n",
    "    Gp = []\n",
    "\n",
    "    for p in G:\n",
    "        pp = p.subs(**kwargs)\n",
    "        if pp != 0:\n",
    "            Gp.append(pp)\n",
    "    \n",
    "    return Gp\n",
    "\n",
    "def count_solutions_brute(q, matrices):\n",
    "    \"\"\"\n",
    "    считает количество решений над полем F_q с помощью полного перебора.\n",
    "    последовательно осуществляет подстановку переменных: если на каком-то\n",
    "    шаге одно из уравнений приняло вид c = 0, где c ≠ 0, то выходит из\n",
    "    текущей ветки\n",
    "    \"\"\"    \n",
    "\n",
    "    F = GF(q)\n",
    "    G = build_groebner(matrices, q=q)\n",
    "\n",
    "    def check(G):\n",
    "        for p in G:\n",
    "            if p == 0:\n",
    "                continue\n",
    "            if p.degree() == 0:\n",
    "                return False\n",
    "        return True\n",
    "    \n",
    "    def count(G, iter):\n",
    "        if iter == 10:\n",
    "            return 1\n",
    "\n",
    "        result = 0\n",
    "        for x in F:\n",
    "            Gnew = eliminate(G, **{f'x{iter}': x})\n",
    "            if check(Gnew):\n",
    "                result += count(Gnew, iter + 1)\n",
    "        return result\n",
    "    \n",
    "    return count(G, 1)\n",
    "\n",
    "def count_solutions_approx(q, matrices, iter=2 * 10**5):\n",
    "    \"\"\"\n",
    "    приближенно считает число решений с помощью метода Монте-Карло\n",
    "    \"\"\"\n",
    "\n",
    "    F = GF(q)\n",
    "    G = build_groebner(matrices, q=q)\n",
    "    elems = list([x for x in F])\n",
    "\n",
    "    count = 0\n",
    "    for _ in range(iter):\n",
    "        mask = random.randint(0, q ** 9)\n",
    "\n",
    "        kwargs = {}\n",
    "        for i in range(1, 10):\n",
    "            y = elems[mask % q]\n",
    "            mask //= q\n",
    "            kwargs.update({f'x{i}': y})\n",
    "        \n",
    "        Gnew = eliminate(G, **kwargs)\n",
    "        flag = True\n",
    "        \n",
    "        for x in Gnew:\n",
    "            if x != 0:\n",
    "                flag = False\n",
    "                break\n",
    "\n",
    "        count += flag\n",
    "    \n",
    "    return int((count / iter) * q ** 9)"
   ]
  },
  {
   "cell_type": "code",
   "execution_count": 12,
   "metadata": {
    "vscode": {
     "languageId": "python"
    }
   },
   "outputs": [],
   "source": [
    "# на таком наборе матриц мы будем рассматривать\n",
    "# работу функций выше\n",
    "\n",
    "matrices = (\n",
    "        Matrix([\n",
    "            [0, 0, 0],\n",
    "            [0, 0, 0],\n",
    "            [0, 0, 0]\n",
    "        ]),\n",
    "        Matrix([\n",
    "            [1, 0, 0],\n",
    "            [0, 0, 0],\n",
    "            [0, 0, 0]\n",
    "        ]),\n",
    "        Matrix([\n",
    "            [0, 0, 0],\n",
    "            [0, 1, 0],\n",
    "            [0, 0, 0]\n",
    "        ]),\n",
    "    )"
   ]
  },
  {
   "cell_type": "code",
   "execution_count": 13,
   "metadata": {
    "vscode": {
     "languageId": "python"
    }
   },
   "outputs": [
    {
     "name": "stdout",
     "output_type": "stream",
     "text": [
      "q: 2\n",
      "dimension: 6\n",
      "solutions: 176, q ** 6: 64\n",
      "q: 3\n",
      "dimension: 6\n",
      "solutions: 2403, q ** 6: 729\n",
      "q: 4\n",
      "dimension: 6\n",
      "solutions: 14464, q ** 6: 4096\n",
      "q: 5\n",
      "dimension: 6\n",
      "solutions: 57125, q ** 6: 15625\n",
      "q: 7\n",
      "dimension: 6\n",
      "solutions: 444871, q ** 6: 117649\n"
     ]
    }
   ],
   "source": [
    "qs1 = (2, 3, 4, 5, 7)\n",
    "brute = []\n",
    "\n",
    "for q in qs1:\n",
    "    print(f'q: {q}')\n",
    "\n",
    "    cnt = count_solutions_brute(q, matrices)\n",
    "\n",
    "    print(f'solutions: {cnt}, q ** 6: {q ** 6}')\n",
    "    brute.append(cnt)"
   ]
  },
  {
   "cell_type": "code",
   "execution_count": 14,
   "metadata": {
    "vscode": {
     "languageId": "python"
    }
   },
   "outputs": [
    {
     "name": "stdout",
     "output_type": "stream",
     "text": [
      "q: 2\n",
      "dimension: 6\n",
      "solutions: 177, q ** 6: 64\n",
      "q: 3\n",
      "dimension: 6\n",
      "solutions: 2410, q ** 6: 729\n",
      "q: 4\n",
      "dimension: 6\n",
      "solutions: 14434, q ** 6: 4096\n",
      "q: 5\n",
      "dimension: 6\n",
      "solutions: 57568, q ** 6: 15625\n",
      "q: 7\n",
      "dimension: 6\n",
      "solutions: 440257, q ** 6: 117649\n",
      "q: 8\n",
      "dimension: 6\n",
      "solutions: 1027436, q ** 6: 262144\n",
      "q: 9\n",
      "dimension: 6\n",
      "solutions: 2020397, q ** 6: 531441\n",
      "q: 11\n",
      "dimension: 6\n",
      "solutions: 7014894, q ** 6: 1771561\n",
      "q: 13\n",
      "dimension: 6\n",
      "solutions: 18716941, q ** 6: 4826809\n",
      "q: 17\n",
      "dimension: 6\n",
      "solutions: 90719725, q ** 6: 24137569\n",
      "q: 19\n",
      "dimension: 6\n",
      "solutions: 196839495, q ** 6: 47045881\n"
     ]
    }
   ],
   "source": [
    "qs2 = (2, 3, 4, 5, 7, 8, 9, 11, 13, 17, 19)\n",
    "approx = []\n",
    "\n",
    "for q in qs2:\n",
    "    print(f'q: {q}')\n",
    "\n",
    "    cnt = count_solutions_approx(q, matrices)\n",
    "\n",
    "    print(f'solutions: {cnt}, q ** 6: {q ** 6}')\n",
    "    approx.append(cnt)"
   ]
  },
  {
   "cell_type": "code",
   "execution_count": 16,
   "metadata": {
    "vscode": {
     "languageId": "python"
    }
   },
   "outputs": [
    {
     "data": {
      "text/plain": [
       "<matplotlib.legend.Legend object at 0x11bd5fd90>"
      ]
     },
     "execution_count": 16,
     "metadata": {},
     "output_type": "execute_result"
    },
    {
     "data": {
      "image/png": "[encoded data removed]",
      "text/plain": [
       "<Figure size 640x480 with 1 Axes>"
      ]
     },
     "metadata": {},
     "output_type": "display_data"
    }
   ],
   "source": [
    "import matplotlib.pyplot as plt\n",
    "%matplotlib inline\n",
    "\n",
    "qs1 = (2, 3, 4, 5, 7)\n",
    "\n",
    "true = []\n",
    "for q in qs2:\n",
    "    true.append(4 * q ** 6)\n",
    "\n",
    "plt.plot(qs2, approx, label='approx')\n",
    "plt.plot(qs2, true, label='$4 q^6$')\n",
    "plt.xlabel('order of field')\n",
    "plt.ylabel('number of solutions')\n",
    "plt.title('approximate number of solutions correlation with $q^6$')\n",
    "plt.legend()"
   ]
  },
  {
   "cell_type": "code",
   "execution_count": 17,
   "metadata": {
    "vscode": {
     "languageId": "python"
    }
   },
   "outputs": [
    {
     "data": {
      "text/plain": [
       "<matplotlib.legend.Legend object at 0x116fc9950>"
      ]
     },
     "execution_count": 17,
     "metadata": {},
     "output_type": "execute_result"
    },
    {
     "data": {
      "image/png": "[encoded data removed]",
      "text/plain": [
       "<Figure size 640x480 with 1 Axes>"
      ]
     },
     "metadata": {},
     "output_type": "display_data"
    }
   ],
   "source": [
    "plt.plot(qs1, brute, label='brute')\n",
    "plt.plot(qs2[:len(qs1)], approx[:len(qs1)], label='approx')\n",
    "plt.xlabel('order of field')\n",
    "plt.ylabel('number of solutions')\n",
    "plt.title('quality of approximation')\n",
    "plt.legend()"
   ]
  }
 ],
 "metadata": {
  "kernelspec": {
   "display_name": "SageMath 10.0",
   "language": "sage",
   "name": "SageMath-10.0"
  },
  "language_info": {
   "codemirror_mode": {
    "name": "ipython",
    "version": 3
   },
   "file_extension": ".py",
   "mimetype": "text/x-python",
   "name": "sage",
   "nbconvert_exporter": "python",
   "pygments_lexer": "ipython3",
   "version": "3.11.1"
  },
  "orig_nbformat": 4
 },
 "nbformat": 4,
 "nbformat_minor": 2
}
